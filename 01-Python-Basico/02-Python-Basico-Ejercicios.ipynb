{
  "cells": [
    {
      "cell_type": "markdown",
      "metadata": {
        "id": "jbCeBSUJL0y-"
      },
      "source": [
        "___\n",
        "\n",
        "<a href='https://jupyter-notebook.readthedocs.io/en/stable/examples/Notebook/Running%20Code.html'> <img src='https://www.python.org/static/img/python-logo.png' /></a>\n",
        "___\n",
        "# Python Basico - Ejercicios\n",
        "\n"
      ]
    },
    {
      "cell_type": "markdown",
      "metadata": {
        "id": "tSDxjeg3L0zE"
      },
      "source": [
        "## Ejercicios\n",
        "\n",
        "Responda las preguntas o complete las tareas descritas en negrita a continuación, use el método específico descrito si corresponde."
      ]
    },
    {
      "cell_type": "markdown",
      "metadata": {
        "id": "SQGpB-njL0zF"
      },
      "source": [
        "** ¿Cuánto es 7 elevado a 4?**"
      ]
    },
    {
      "cell_type": "code",
      "execution_count": 1,
      "metadata": {
        "id": "cmKRc5zVL0zG",
        "outputId": "e12503fb-cf7a-4354-8095-0d106faab346",
        "colab": {
          "base_uri": "https://localhost:8080/"
        }
      },
      "outputs": [
        {
          "output_type": "execute_result",
          "data": {
            "text/plain": [
              "2401"
            ]
          },
          "metadata": {},
          "execution_count": 1
        }
      ],
      "source": [
        "7**4"
      ]
    },
    {
      "cell_type": "markdown",
      "metadata": {
        "id": "S1yrZviqL0zH"
      },
      "source": [
        "** Divida esta cadena:**\n",
        "\n",
        "    s = \"Hola mi estimado!\"\n",
        "    \n",
        "**en una lista. **"
      ]
    },
    {
      "cell_type": "code",
      "execution_count": 5,
      "metadata": {
        "id": "q0fwD8r0L0zI",
        "outputId": "09ad800b-2a83-4992-9f6f-b4389bb9313f",
        "colab": {
          "base_uri": "https://localhost:8080/"
        }
      },
      "outputs": [
        {
          "output_type": "execute_result",
          "data": {
            "text/plain": [
              "['Hola', 'mi', 'estimado!']"
            ]
          },
          "metadata": {},
          "execution_count": 5
        }
      ],
      "source": [
        "s = \"Hola mi estimado!\"\n",
        "lista = s.split()\n",
        "lista"
      ]
    },
    {
      "cell_type": "code",
      "execution_count": null,
      "metadata": {
        "id": "fkF4bgawL0zJ",
        "outputId": "9e909cf0-d3ad-42ab-9c50-8d9c7aaaca76"
      },
      "outputs": [
        {
          "data": {
            "text/plain": [
              "['Hola', 'mi', 'estimado!']"
            ]
          },
          "execution_count": 5,
          "metadata": {},
          "output_type": "execute_result"
        }
      ],
      "source": [
        ""
      ]
    },
    {
      "cell_type": "markdown",
      "metadata": {
        "id": "yv52CvedL0zK"
      },
      "source": [
        "** Dadas las variables:**\n",
        "\n",
        "    planeta = \"Tierra\"\n",
        "    diametro = 12742\n",
        "\n",
        "** Use .format() para visualizar la siguente frase: **\n",
        "\n",
        "    El diametro de la Tierra es 12742 kilometros."
      ]
    },
    {
      "cell_type": "code",
      "execution_count": 7,
      "metadata": {
        "id": "OGggOkUlL0zL",
        "outputId": "495d4030-7f68-44ec-c49f-5a3f7fbb1fc8",
        "colab": {
          "base_uri": "https://localhost:8080/"
        }
      },
      "outputs": [
        {
          "output_type": "stream",
          "name": "stdout",
          "text": [
            "El diametro de la Tierra es 12742 kilometros.\n"
          ]
        }
      ],
      "source": [
        "planeta = \"Tierra\"\n",
        "diametro = 12742\n",
        "print(\"El diametro de la {planeta} es {km} kilometros.\".format(planeta = planeta, km = diametro))"
      ]
    },
    {
      "cell_type": "code",
      "execution_count": null,
      "metadata": {
        "id": "jl2mUJdCL0zM",
        "outputId": "e114ec63-b06a-4a40-f99e-871fba677fb1"
      },
      "outputs": [
        {
          "name": "stdout",
          "output_type": "stream",
          "text": [
            "El diametro de la Tierra es 12742 kilometros.\n"
          ]
        }
      ],
      "source": [
        ""
      ]
    },
    {
      "cell_type": "markdown",
      "metadata": {
        "id": "KE0opx-IL0zM"
      },
      "source": [
        "** Dada esta lista anidada, use la indexación para obtener la palabra \"hola\"**"
      ]
    },
    {
      "cell_type": "code",
      "execution_count": 8,
      "metadata": {
        "id": "sPZJoYf6L0zN",
        "outputId": "5f8da2e7-2698-42c4-a7a5-24657a585255",
        "colab": {
          "base_uri": "https://localhost:8080/"
        }
      },
      "outputs": [
        {
          "output_type": "execute_result",
          "data": {
            "text/plain": [
              "['hola']"
            ]
          },
          "metadata": {},
          "execution_count": 8
        }
      ],
      "source": [
        "lst = [1,2,[3,4],[5,[100,200,['hola']],23,11],1,7]\n",
        "lst[3][1][2]"
      ]
    },
    {
      "cell_type": "code",
      "execution_count": null,
      "metadata": {
        "id": "_6oAl2qcL0zN",
        "outputId": "b4b8d515-42cf-46f9-b13b-011b475e1fd7"
      },
      "outputs": [
        {
          "data": {
            "text/plain": [
              "'hola'"
            ]
          },
          "execution_count": 9,
          "metadata": {},
          "output_type": "execute_result"
        }
      ],
      "source": [
        ""
      ]
    },
    {
      "cell_type": "markdown",
      "metadata": {
        "id": "X8ESqKawL0zO"
      },
      "source": [
        "** Dado este diccionario nido, tome la palabra \"hola\". Esté preparado, esto será molesto / complicado  **"
      ]
    },
    {
      "cell_type": "code",
      "execution_count": 12,
      "metadata": {
        "id": "Q1QfDdCJL0zO",
        "outputId": "defce5a1-aef2-4689-e437-9031237cad40",
        "colab": {
          "base_uri": "https://localhost:8080/",
          "height": 35
        }
      },
      "outputs": [
        {
          "output_type": "execute_result",
          "data": {
            "text/plain": [
              "'hola'"
            ],
            "application/vnd.google.colaboratory.intrinsic+json": {
              "type": "string"
            }
          },
          "metadata": {},
          "execution_count": 12
        }
      ],
      "source": [
        "d = {'k1':[1,2,3,{'dificil':['oh','man','inicio',{'destino':[1,2,3,'hola']}]}]}\n",
        "d['k1'][3]['dificil'][3]['destino'][3]"
      ]
    },
    {
      "cell_type": "code",
      "execution_count": null,
      "metadata": {
        "id": "wDwMJ-a-L0zP",
        "outputId": "ec74f64f-b504-4f9c-bf94-c4c18e4ffe2c"
      },
      "outputs": [
        {
          "data": {
            "text/plain": [
              "'hola'"
            ]
          },
          "execution_count": 11,
          "metadata": {},
          "output_type": "execute_result"
        }
      ],
      "source": [
        ""
      ]
    },
    {
      "cell_type": "markdown",
      "metadata": {
        "id": "OqvFSteZL0zP"
      },
      "source": [
        "** ¿Cuál es la principal diferencia entre una tupla y una lista? **"
      ]
    },
    {
      "cell_type": "code",
      "execution_count": null,
      "metadata": {
        "id": "vahHFwO4L0zP"
      },
      "outputs": [],
      "source": [
        "\"\"\"\n",
        "Las tuplas son inmutables, a diferencia de las lista, que sus valores se pueden modificar\n",
        "\"\"\""
      ]
    },
    {
      "cell_type": "markdown",
      "metadata": {
        "id": "vpEMxz1sL0zP"
      },
      "source": [
        "** Cree una función que tome el dominio del sitio web de correo electrónico a partir de una cadena con el siguiente formato: **\n",
        "\n",
        "    user@dominio.com\n",
        "    \n",
        "**Entonces, por ejemplo, pasando \"user@domain.com\" retornaria: domain.com**"
      ]
    },
    {
      "cell_type": "code",
      "execution_count": 19,
      "metadata": {
        "id": "01ZjYssuL0zQ"
      },
      "outputs": [],
      "source": [
        "def domain(str):\n",
        "  return print(str[str.find('@')+1:])"
      ]
    },
    {
      "cell_type": "code",
      "source": [
        "domain(\"user@dominio.com\")"
      ],
      "metadata": {
        "id": "G9YOCngGORRh",
        "outputId": "e832cd5d-9a7a-43b6-c956-ec6a3991edfb",
        "colab": {
          "base_uri": "https://localhost:8080/"
        }
      },
      "execution_count": 20,
      "outputs": [
        {
          "output_type": "stream",
          "name": "stdout",
          "text": [
            "dominio.com\n"
          ]
        }
      ]
    },
    {
      "cell_type": "code",
      "execution_count": null,
      "metadata": {
        "id": "4-eJBcP3L0zQ",
        "outputId": "aa03dd17-1796-4c7d-9f86-518cc7aaa4b3"
      },
      "outputs": [
        {
          "data": {
            "text/plain": [
              "'dominio.com'"
            ]
          },
          "execution_count": 14,
          "metadata": {},
          "output_type": "execute_result"
        }
      ],
      "source": [
        "dominioGet('user@dominio.com')"
      ]
    },
    {
      "cell_type": "markdown",
      "metadata": {
        "id": "0DddtBtbL0zR"
      },
      "source": [
        "** Cree una función básica que devuelva Verdadero si la palabra 'perro' está contenida en la cadena de entrada. No se preocupe por casos extremos como una puntuación que se adjunta a la palabra perro, pero tenga en cuenta las mayúsculas. **"
      ]
    },
    {
      "cell_type": "code",
      "execution_count": 23,
      "metadata": {
        "id": "3aLSkXv4L0zR"
      },
      "outputs": [],
      "source": [
        "def ubicaDog(str):\n",
        "  str = str.lower()\n",
        "  return str.find(\"perro\") != -1"
      ]
    },
    {
      "cell_type": "code",
      "source": [
        "ubicaDog('Esta el Perro aqui?')"
      ],
      "metadata": {
        "id": "vlRa6vDUO5K6",
        "outputId": "10e76224-bc3e-40eb-b291-88d08867dc2a",
        "colab": {
          "base_uri": "https://localhost:8080/"
        }
      },
      "execution_count": 26,
      "outputs": [
        {
          "output_type": "execute_result",
          "data": {
            "text/plain": [
              "True"
            ]
          },
          "metadata": {},
          "execution_count": 26
        }
      ]
    },
    {
      "cell_type": "code",
      "execution_count": null,
      "metadata": {
        "id": "BiPErxqJL0zR",
        "outputId": "11b3fa07-c31b-4b50-8df3-b2198017e569"
      },
      "outputs": [
        {
          "data": {
            "text/plain": [
              "True"
            ]
          },
          "execution_count": 16,
          "metadata": {},
          "output_type": "execute_result"
        }
      ],
      "source": [
        "ubicaDog('Esta el perro aqui?')"
      ]
    },
    {
      "cell_type": "markdown",
      "metadata": {
        "id": "y2tOwPEHL0zR"
      },
      "source": [
        "** Cree una función que cuente el número de veces que aparece la palabra \"perro\" en una cadena. Nuevamente ignore los casos extremos. **"
      ]
    },
    {
      "cell_type": "code",
      "execution_count": 27,
      "metadata": {
        "id": "pHOjJau1L0zS"
      },
      "outputs": [],
      "source": [
        "def cuentaDog(str):\n",
        "  return str.count(\"perro\")"
      ]
    },
    {
      "cell_type": "code",
      "source": [
        "cuentaDog('Este perro corre mas rapido que este otro perro no lo dudes!')"
      ],
      "metadata": {
        "id": "LehHThtJPWKR",
        "outputId": "c4cc5d64-1a44-4c5b-8b51-b881492f6201",
        "colab": {
          "base_uri": "https://localhost:8080/"
        }
      },
      "execution_count": 28,
      "outputs": [
        {
          "output_type": "execute_result",
          "data": {
            "text/plain": [
              "2"
            ]
          },
          "metadata": {},
          "execution_count": 28
        }
      ]
    },
    {
      "cell_type": "code",
      "execution_count": null,
      "metadata": {
        "id": "bvBB_N09L0zS",
        "outputId": "b81c47bd-b6e2-4aca-e946-1191d79303b5"
      },
      "outputs": [
        {
          "data": {
            "text/plain": [
              "2"
            ]
          },
          "execution_count": 19,
          "metadata": {},
          "output_type": "execute_result"
        }
      ],
      "source": [
        "cuentaDog('Este perro corre mas rapido que este otro perro no lo dudes!')"
      ]
    },
    {
      "cell_type": "markdown",
      "metadata": {
        "id": "XqfrzSPpL0zS"
      },
      "source": [
        "** Utilice expresiones lambda y la función filter () para filtrar las palabras de una lista que comiencen con la letra 's'. Por ejemplo:**\n",
        "\n",
        "    seq = ['sopa','perro','salida','gato','excelente']\n",
        "\n",
        "**debe filtrarse solo:**\n",
        "\n",
        "    ['sopa','salida']"
      ]
    },
    {
      "cell_type": "code",
      "execution_count": 30,
      "metadata": {
        "id": "Z1J1tG_4L0zS"
      },
      "outputs": [],
      "source": [
        "seq = ['sopa','perro','salida','gato','excelente']"
      ]
    },
    {
      "cell_type": "code",
      "source": [
        "list(filter(lambda item: item[0]=='s',seq))"
      ],
      "metadata": {
        "id": "MbV7uCsuQ8Ef",
        "outputId": "7f3cc1d7-da51-4beb-fde9-9a00d7640926",
        "colab": {
          "base_uri": "https://localhost:8080/"
        }
      },
      "execution_count": 31,
      "outputs": [
        {
          "output_type": "execute_result",
          "data": {
            "text/plain": [
              "['sopa', 'salida']"
            ]
          },
          "metadata": {},
          "execution_count": 31
        }
      ]
    },
    {
      "cell_type": "code",
      "execution_count": null,
      "metadata": {
        "id": "YeFsjisaL0zT",
        "outputId": "845281db-1025-4a24-8ff6-7a7368643bcc"
      },
      "outputs": [
        {
          "data": {
            "text/plain": [
              "['sopa', 'salida']"
            ]
          },
          "execution_count": 21,
          "metadata": {},
          "output_type": "execute_result"
        }
      ],
      "source": [
        ""
      ]
    },
    {
      "cell_type": "markdown",
      "metadata": {
        "id": "gWEtXqGEL0zT"
      },
      "source": [
        "### Ejercicio Final\n",
        "**Conduces demasiado rápido y un policía te detiene. Escribe una función para devolver uno de los 3 resultados posibles: \"Sin papeleta\", \"Papeleta NO GRAVE\" o \"Papeleta GRAVE\".\n",
        "   Si tu velocidad es de 60 o menos, el resultado es \"Sin papeleta\". Si la velocidad está entre 61\n",
        "   y 80 inclusive, el resultado es \"Papeleta NO GRAVE\". Si la velocidad es 81 o más, el resultado es \"Papeleta GRAVE\". A menos que sea tu cumpleaños (codificado como un valor booleano en los parámetros de la función), en tu cumpleaños, la velocidad puede ser 5 más alta en total de casos. **"
      ]
    },
    {
      "cell_type": "code",
      "execution_count": 32,
      "metadata": {
        "id": "HefxKwtBL0zT"
      },
      "outputs": [],
      "source": [
        "def calcula_velocidad(velocidad, es_mi_cumple):\n",
        "  if es_mi_cumple:\n",
        "    cumple = 5\n",
        "  else:\n",
        "    cumple = 0\n",
        "  if velocidad <= 60 + cumple:\n",
        "    print(\"Sin papeleta\")\n",
        "  elif velocidad <= 80 + cumple:\n",
        "    print(\"Papeleta NO GRAVE\")\n",
        "  else:\n",
        "    print(\"Papeleta GRAVE\")\n",
        "  pass\n"
      ]
    },
    {
      "cell_type": "code",
      "execution_count": 33,
      "metadata": {
        "id": "onUlinUlL0zT",
        "outputId": "02866d20-7c7f-4af0-f965-5c3795edfbd6",
        "colab": {
          "base_uri": "https://localhost:8080/"
        }
      },
      "outputs": [
        {
          "output_type": "stream",
          "name": "stdout",
          "text": [
            "Papeleta NO GRAVE\n"
          ]
        }
      ],
      "source": [
        "calcula_velocidad(81,True)"
      ]
    },
    {
      "cell_type": "code",
      "execution_count": 34,
      "metadata": {
        "id": "SW0cZMTiL0zU",
        "outputId": "a81b6d12-04cf-449e-9a23-b014052d7c67",
        "colab": {
          "base_uri": "https://localhost:8080/"
        }
      },
      "outputs": [
        {
          "output_type": "stream",
          "name": "stdout",
          "text": [
            "Papeleta GRAVE\n"
          ]
        }
      ],
      "source": [
        "calcula_velocidad(81,False)"
      ]
    },
    {
      "cell_type": "markdown",
      "metadata": {
        "id": "Y6b_rK4WL0zU"
      },
      "source": [
        "# Buen trabajo!"
      ]
    }
  ],
  "metadata": {
    "kernelspec": {
      "display_name": "Python 3",
      "language": "python",
      "name": "python3"
    },
    "language_info": {
      "codemirror_mode": {
        "name": "ipython",
        "version": 3
      },
      "file_extension": ".py",
      "mimetype": "text/x-python",
      "name": "python",
      "nbconvert_exporter": "python",
      "pygments_lexer": "ipython3",
      "version": "3.8.5"
    },
    "colab": {
      "name": "02-Python-Basico-Ejercicios.ipynb",
      "provenance": []
    }
  },
  "nbformat": 4,
  "nbformat_minor": 0
}